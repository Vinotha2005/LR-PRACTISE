{
 "cells": [
  {
   "cell_type": "markdown",
   "id": "382ab668",
   "metadata": {},
   "source": [
    "1️⃣ Simple Linear Regression — Study Hours → Exam Score"
   ]
  },
  {
   "cell_type": "code",
   "execution_count": 14,
   "id": "2106c504",
   "metadata": {},
   "outputs": [
    {
     "name": "stdout",
     "output_type": "stream",
     "text": [
      "      hours      score\n",
      "0  5.939322  79.188121\n",
      "1  7.436704  87.279918\n",
      "2  6.424870  91.372308\n",
      "3  5.903949  78.448910\n",
      "4  4.812893  71.569383\n",
      "\n",
      "Slope (Coefficient): 4.946090187513336\n",
      "\n",
      "Intercept: 50.439746059106994\n",
      "\n",
      "R² Score: 0.877700309825362\n",
      "\n",
      "Predicted Exam Score (for 9 hours): 94.95455774672702\n"
     ]
    }
   ],
   "source": [
    "\n",
    "import pandas as pd\n",
    "from sklearn.linear_model import LinearRegression\n",
    "from sklearn.metrics import r2_score\n",
    "\n",
    "df = pd.read_csv(\"study_hours_score.csv\")\n",
    "print(df.head())\n",
    "\n",
    "X = df[['hours']]\n",
    "y = df['score']\n",
    "\n",
    "model = LinearRegression()\n",
    "model.fit(X, y)\n",
    "\n",
    "print(\"\\nSlope (Coefficient):\", model.coef_[0])\n",
    "print(\"\\nIntercept:\", model.intercept_)\n",
    "\n",
    "y_pred = model.predict(X)\n",
    "print(\"\\nR² Score:\", r2_score(y, y_pred))\n",
    "\n",
    "pred = model.predict(pd.DataFrame({'hours':[9]}))\n",
    "print(\"\\nPredicted Exam Score (for 9 hours):\", pred[0])\n"
   ]
  },
  {
   "cell_type": "markdown",
   "id": "c2052521",
   "metadata": {},
   "source": [
    "2️⃣ Simple Linear Regression — House Size → Price"
   ]
  },
  {
   "cell_type": "code",
   "execution_count": 15,
   "id": "55126ddd",
   "metadata": {},
   "outputs": [
    {
     "name": "stdout",
     "output_type": "stream",
     "text": [
      "      size_m2          price\n",
      "0  186.465316  599022.373692\n",
      "1  211.140468  677753.447334\n",
      "2  184.285509  619187.225271\n",
      "3  134.481499  453492.200820\n",
      "4   74.959290  249648.033801\n",
      "\n",
      "Slope: 2994.1939954544773\n",
      "\n",
      "Intercept: 50090.43196682696\n",
      "\n",
      "R² Score: 0.9871063371460025\n",
      "\n",
      "Predicted Price for 120 m²: 409393.7114213642\n"
     ]
    }
   ],
   "source": [
    "import pandas as pd\n",
    "from sklearn.linear_model import LinearRegression\n",
    "from sklearn.metrics import r2_score\n",
    "\n",
    "df = pd.read_csv(\"house_size_price.csv\")\n",
    "print(df.head())\n",
    "X = df[['size_m2']]\n",
    "y = df['price']\n",
    "\n",
    "model = LinearRegression()\n",
    "model.fit(X, y)\n",
    "\n",
    "print(\"\\nSlope:\", model.coef_[0])\n",
    "print(\"\\nIntercept:\", model.intercept_)\n",
    "\n",
    "y_pred = model.predict(X)\n",
    "print(\"\\nR² Score:\", r2_score(y, y_pred))\n",
    "\n",
    "\n",
    "pred = model.predict(pd.DataFrame({'size_m2': [120]}))\n",
    "print(\"\\nPredicted Price for 120 m²:\", pred[0])\n"
   ]
  },
  {
   "cell_type": "markdown",
   "id": "13eeaa43",
   "metadata": {},
   "source": [
    "3️⃣ Simple Linear Regression — Salary vs Experience\n"
   ]
  },
  {
   "cell_type": "code",
   "execution_count": 16,
   "id": "de2c364a",
   "metadata": {},
   "outputs": [
    {
     "name": "stdout",
     "output_type": "stream",
     "text": [
      "   experience_years    salary_k\n",
      "0          6.088383  193.657709\n",
      "1          7.109371  206.521482\n",
      "2          4.036323  134.513228\n",
      "3          9.143522  270.084944\n",
      "4          8.196867  240.073159\n",
      "\n",
      "Slope: 24.997113118549944\n",
      "\n",
      "Intercept: 30.138373257062312\n",
      "\n",
      "R² Score: 0.9987603503384429\n",
      "\n",
      "Predicted Salary (7 years): 205.11816508691192\n"
     ]
    }
   ],
   "source": [
    "import pandas as pd\n",
    "from sklearn.linear_model import LinearRegression\n",
    "from sklearn.metrics import r2_score\n",
    "\n",
    "df = pd.read_csv(\"salary_experience.csv\")\n",
    "print(df.head())\n",
    "X = df[['experience_years']]\n",
    "y = df['salary_k']\n",
    "\n",
    "model = LinearRegression()\n",
    "model.fit(X, y)\n",
    "\n",
    "print(\"\\nSlope:\", model.coef_[0])\n",
    "print(\"\\nIntercept:\", model.intercept_)\n",
    "\n",
    "y_pred = model.predict(X)\n",
    "print(\"\\nR² Score:\", r2_score(y, y_pred))\n",
    "\n",
    "pred = model.predict(pd.DataFrame({'experience_years': [7]}))\n",
    "print(\"\\nPredicted Salary (7 years):\", pred[0])\n"
   ]
  },
  {
   "cell_type": "markdown",
   "id": "9a9b80ab",
   "metadata": {},
   "source": [
    "4️⃣ Multiple Linear Regression — House Price ~ Size + Bedrooms\n"
   ]
  },
  {
   "cell_type": "code",
   "execution_count": 17,
   "id": "c88728d0",
   "metadata": {},
   "outputs": [
    {
     "name": "stdout",
     "output_type": "stream",
     "text": [
      "      size_m2          price\n",
      "0  186.465316  599022.373692\n",
      "1  211.140468  677753.447334\n",
      "2  184.285509  619187.225271\n",
      "3  134.481499  453492.200820\n",
      "4   74.959290  249648.033801\n",
      "\n",
      "Slope (Coefficient): 2994.1939954544773\n",
      "\n",
      "Intercept: 50090.43196682696\n",
      "\n",
      "R² Score: 0.9871063371460025\n",
      "\n",
      "Predicted Price for 120 m²: 409393.7114213642\n"
     ]
    }
   ],
   "source": [
    "import pandas as pd\n",
    "from sklearn.linear_model import LinearRegression\n",
    "from sklearn.metrics import r2_score\n",
    "\n",
    "df = pd.read_csv(\"house_size_price.csv\")\n",
    "print(df.head())\n",
    "\n",
    "X = df[['size_m2']]\n",
    "y = df['price']\n",
    "\n",
    "model = LinearRegression()\n",
    "model.fit(X, y)\n",
    "\n",
    "print(\"\\nSlope (Coefficient):\", model.coef_[0])\n",
    "print(\"\\nIntercept:\", model.intercept_)\n",
    "\n",
    "y_pred = model.predict(X)\n",
    "print(\"\\nR² Score:\", r2_score(y, y_pred))\n",
    "\n",
    "pred = model.predict(pd.DataFrame({'size_m2':[120]}))\n",
    "print(\"\\nPredicted Price for 120 m²:\", pred[0])\n"
   ]
  },
  {
   "cell_type": "markdown",
   "id": "570b8b55",
   "metadata": {},
   "source": [
    "5️⃣ Multiple Linear Regression — Advertising Spend → Sales"
   ]
  },
  {
   "cell_type": "code",
   "execution_count": 18,
   "id": "94b4d070",
   "metadata": {},
   "outputs": [
    {
     "name": "stdout",
     "output_type": "stream",
     "text": [
      "     TV_spend  radio_spend  social_spend    sales_k\n",
      "0  249.784924    74.719837     73.151894  78.883010\n",
      "1   10.787815    79.863146     40.270630  62.290535\n",
      "2  182.323172    44.580558     41.067914  60.213187\n",
      "3   69.764240    16.219740     51.516816  48.394849\n",
      "4  186.352496    94.056403     70.605392  82.031026\n",
      "\n",
      "Coefficients (TV, Radio, Social): [0.0414836  0.29588444 0.19820709]\n",
      "\n",
      "Intercept: 30.058753929007658\n",
      "\n",
      "R² Score: 0.9581514541240409\n",
      "\n",
      "Predicted Sales (k): 49.73215880770041\n"
     ]
    }
   ],
   "source": [
    "import pandas as pd\n",
    "from sklearn.linear_model import LinearRegression\n",
    "from sklearn.metrics import r2_score\n",
    "\n",
    "df = pd.read_csv(\"advertising_sales.csv\")\n",
    "print(df.head())\n",
    "X = df[['TV_spend', 'radio_spend', 'social_spend']]\n",
    "y = df['sales_k']\n",
    "\n",
    "model = LinearRegression()\n",
    "model.fit(X, y)\n",
    "\n",
    "print(\"\\nCoefficients (TV, Radio, Social):\", model.coef_)\n",
    "print(\"\\nIntercept:\", model.intercept_)\n",
    "\n",
    "y_pred = model.predict(X)\n",
    "print(\"\\nR² Score:\", r2_score(y, y_pred))\n",
    "\n",
    "\n",
    "pred = model.predict(pd.DataFrame({'TV_spend': [160], 'radio_spend': [32], 'social_spend': [18]}))\n",
    "print(\"\\nPredicted Sales (k):\", pred[0])\n"
   ]
  }
 ],
 "metadata": {
  "kernelspec": {
   "display_name": "Python 3",
   "language": "python",
   "name": "python3"
  },
  "language_info": {
   "codemirror_mode": {
    "name": "ipython",
    "version": 3
   },
   "file_extension": ".py",
   "mimetype": "text/x-python",
   "name": "python",
   "nbconvert_exporter": "python",
   "pygments_lexer": "ipython3",
   "version": "3.10.18"
  }
 },
 "nbformat": 4,
 "nbformat_minor": 5
}
